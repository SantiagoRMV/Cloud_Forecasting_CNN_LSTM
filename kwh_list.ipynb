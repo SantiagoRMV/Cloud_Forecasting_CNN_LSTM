{
 "cells": [
  {
   "cell_type": "code",
   "execution_count": 1,
   "metadata": {},
   "outputs": [
    {
     "name": "stdout",
     "output_type": "stream",
     "text": [
      "Lista de energía predicha (kW): [0, 0, 0, 0, 0, 0.0, 527.06191, 1026.08495, 844.5145799999999, 1038.73197, 1257.81302, 1867.7273900000002, 1717.83687, 1687.06341, 1318.61534, 1244.7996600000001, 1406.71168, 1218.10028, 0.0, 0, 0, 0, 0, 0]\n",
      "Lista de energía real (kW): [0, 0, 0, 0, 0, 0.0, 0.0, 0.0, 0.0, 0.0, 0.0, 1648.04624, 2564.80734, 2176.22458, 1837.31085, 1273.4590600000001, 550.73434, 136.38086, 0.7492000000000001, 0, 0, 0, 0, 0]\n"
     ]
    }
   ],
   "source": [
    "# Importar librerías necesarias\n",
    "import pandas as pd\n",
    "\n",
    "# Cargar los archivos CSV desde la carpeta 'Files'\n",
    "data_predicho = pd.read_csv('Files/Kwh_predicho_01_04.csv')\n",
    "data_real = pd.read_csv('Files/Kwh_real_01_04.csv')\n",
    "\n",
    "# Convertir las marcas de tiempo a formato datetime\n",
    "data_predicho['Timestamp'] = pd.to_datetime(data_predicho['Unnamed: 0'], errors='coerce')\n",
    "data_real['Timestamp'] = pd.to_datetime(data_real['Unnamed: 0'], errors='coerce')\n",
    "\n",
    "# Filtrar las columnas necesarias y eliminar valores nulos\n",
    "data_predicho = data_predicho[['Timestamp', 'Pdc, W']].dropna()\n",
    "data_real = data_real[['Timestamp', 'Pdc, W']].dropna()\n",
    "\n",
    "# Asegurarse de que los valores de 'Pdc, W' sean numéricos\n",
    "data_predicho['Pdc, W'] = pd.to_numeric(data_predicho['Pdc, W'], errors='coerce')\n",
    "data_real['Pdc, W'] = pd.to_numeric(data_real['Pdc, W'], errors='coerce')\n",
    "\n",
    "# Agrupar por hora y sumar los valores de 'Pdc, W', luego convertir a kW\n",
    "predicho_hourly = data_predicho.groupby(data_predicho['Timestamp'].dt.hour)['Pdc, W'].sum() / 1000  # Convertir a kW\n",
    "real_hourly = data_real.groupby(data_real['Timestamp'].dt.hour)['Pdc, W'].sum() / 1000  # Convertir a kW\n",
    "\n",
    "# Convertir los resultados a listas de 24 valores (una por cada hora)\n",
    "predicho_list = [predicho_hourly.get(i, 0) for i in range(24)]\n",
    "real_list = [real_hourly.get(i, 0) for i in range(24)]\n",
    "\n",
    "# Imprimir las listas resultantes\n",
    "print(\"Lista de energía predicha (kW):\", predicho_list)\n",
    "print(\"Lista de energía real (kW):\", real_list)\n"
   ]
  }
 ],
 "metadata": {
  "kernelspec": {
   "display_name": "base",
   "language": "python",
   "name": "python3"
  },
  "language_info": {
   "codemirror_mode": {
    "name": "ipython",
    "version": 3
   },
   "file_extension": ".py",
   "mimetype": "text/x-python",
   "name": "python",
   "nbconvert_exporter": "python",
   "pygments_lexer": "ipython3",
   "version": "3.11.5"
  }
 },
 "nbformat": 4,
 "nbformat_minor": 2
}
