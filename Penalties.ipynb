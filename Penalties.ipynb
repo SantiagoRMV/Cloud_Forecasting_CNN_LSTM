{
 "cells": [
  {
   "cell_type": "code",
   "execution_count": 5,
   "metadata": {},
   "outputs": [],
   "source": [
    "import sys\n",
    "from Penalties.deviations import tolerance_range\n",
    "from Penalties.penalties import hourly_payment, daily_payment\n",
    "from Penalties.utils import NUMERIC\n",
    "from numpy import array, nansum, append, zeros, nan"
   ]
  },
  {
   "cell_type": "code",
   "execution_count": 6,
   "metadata": {},
   "outputs": [],
   "source": [
    "REAL = array([0, 0, 0, 0, 0, 0, 3, 7, 12, 24, 48, 52, 54.7, 58.5])\n",
    "AHEAD = array([0, 0, 0, 0, 0, 0, 7, 8, 15, 32, 43, 40, 45, 68, 68, 66, 50, 18, 0, 0, 0, 0, 0, 0])\n",
    "TODAY = array([0, 0, 0, 0, 0, 0, 7, 8, 15, 32, 43, 40, 45, 68, 68, 66, 50, 18, 0, 0, 0, 0, 0, 0])\n",
    "OFFER_PRICE = array([0, 0, 0, 0, 0, 0, 180_646, 180_646, 190_646, 190_646, 190_646, 198_607, \n",
    "                198_607, 198_607, 199_646, 199_646, 199_646, 199_646, 228_686, 0, 0, 0, 0, 0])\n",
    "STOCK_PRICE = array([89_863.7, 89_863.7, 89_863.7, 89_863.7, 89_863.7, 89_863.7, 89_863.7, 89_863.7, 89_863.7, 89_863.7, 89_863.7, 89_863.7, \n",
    "                89_863.7, 89_863.7, 89_863.7, 89_863.7, 89_863.7, 89_863.7, 89_863.7, 89_863.7, 89_863.7, 89_863.7, 89_863.7, 89_863.7])\n",
    "PERIODS = 24"
   ]
  },
  {
   "cell_type": "code",
   "execution_count": 7,
   "metadata": {},
   "outputs": [],
   "source": [
    "REAL = append(arr=REAL, values=zeros(shape=PERIODS - len(REAL)) + nan)\n",
    "TODAY = append(arr=TODAY, values=zeros(shape=PERIODS - len(TODAY)) + nan)"
   ]
  },
  {
   "cell_type": "code",
   "execution_count": 8,
   "metadata": {},
   "outputs": [
    {
     "name": "stdout",
     "output_type": "stream",
     "text": [
      "0.05\n",
      "[      0.        0.        0.        0.        0.        0.   363129.2\n",
      "   90782.3  302346.9  806258.4  503911.5 1304919.6 1054810.  1033061.4\n",
      "       0.        0.        0.        0.        0.        0.        0.\n",
      "       0.        0.        0. ]\n"
     ]
    }
   ],
   "source": [
    "tolerance_ahead = tolerance_range(first_dispatch=True, real=nansum(a=REAL), gx=nansum(a=AHEAD))\n",
    "\n",
    "payment_ahead = hourly_payment(tolerance=tolerance_ahead,\n",
    "                                real=REAL,\n",
    "                                gx=AHEAD,\n",
    "                                offer_price=OFFER_PRICE,\n",
    "                                stock_price=STOCK_PRICE)\n",
    "print(tolerance_ahead)\n",
    "print(payment_ahead)"
   ]
  },
  {
   "cell_type": "code",
   "execution_count": 9,
   "metadata": {},
   "outputs": [
    {
     "name": "stdout",
     "output_type": "stream",
     "text": [
      "0.05\n",
      "[      0.        0.        0.        0.        0.        0.   363129.2\n",
      "   90782.3  302346.9  806258.4  503911.5 1304919.6 1054810.  1033061.4\n",
      "       0.        0.        0.        0.        0.        0.        0.\n",
      "       0.        0.        0. ]\n"
     ]
    }
   ],
   "source": [
    "tolerance_today = tolerance_range(first_dispatch=False, real=nansum(a=REAL), gx=nansum(a=TODAY))\n",
    "\n",
    "payment_today = hourly_payment(tolerance=tolerance_today, \n",
    "                                real=REAL,\n",
    "                                gx=TODAY,\n",
    "                                offer_price=OFFER_PRICE,\n",
    "                                stock_price=STOCK_PRICE)\n",
    "\n",
    "print(tolerance_today)\n",
    "print(payment_today)"
   ]
  },
  {
   "cell_type": "code",
   "execution_count": 10,
   "metadata": {},
   "outputs": [
    {
     "data": {
      "text/plain": [
       "5459219.300000001"
      ]
     },
     "execution_count": 10,
     "metadata": {},
     "output_type": "execute_result"
    }
   ],
   "source": [
    "daily_payment(ahead=payment_ahead, today=payment_today)"
   ]
  }
 ],
 "metadata": {
  "kernelspec": {
   "display_name": "base",
   "language": "python",
   "name": "python3"
  },
  "language_info": {
   "codemirror_mode": {
    "name": "ipython",
    "version": 3
   },
   "file_extension": ".py",
   "mimetype": "text/x-python",
   "name": "python",
   "nbconvert_exporter": "python",
   "pygments_lexer": "ipython3",
   "version": "3.11.5"
  }
 },
 "nbformat": 4,
 "nbformat_minor": 2
}
